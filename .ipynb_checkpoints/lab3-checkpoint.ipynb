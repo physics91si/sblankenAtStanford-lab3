{
 "cells": [
  {
   "cell_type": "markdown",
   "metadata": {},
   "source": [
    "Physics 91SI\n",
    "\n",
    "Spring 2015\n",
    "\n",
    "Lab 2\n",
    "=====\n",
    "\n",
    "Part 1\n",
    "------"
   ]
  },
  {
   "cell_type": "code",
   "execution_count": 1,
   "metadata": {
    "collapsed": false
   },
   "outputs": [],
   "source": [
    "# Don't edit this function\n",
    "def load_sample():\n",
    "    \"\"\"Return the entire text of Hamlet in a string.\"\"\"\n",
    "    with open('hamlet.txt') as f:\n",
    "        sample = f.read()\n",
    "    return sample"
   ]
  },
  {
   "cell_type": "code",
   "execution_count": 2,
   "metadata": {
    "collapsed": false
   },
   "outputs": [],
   "source": [
    "# Edit this function. \"pass\" tells Python to do nothing.\n",
    "def parse_sample(text, words_Only = False, sort_List = True): \n",
    "    listOfText = [];\n",
    "    curr = ''\n",
    "    for char in text : \n",
    "        if isLetter(char, words_Only) :\n",
    "            curr += char\n",
    "        elif(curr !='') :\n",
    "            listOfText.append(curr)\n",
    "            curr = ''\n",
    "    if(curr !=''):\n",
    "        listOfText.append(curr)\n",
    "    if(sort_List):\n",
    "        listOfText.sort()\n",
    "    return listOfText"
   ]
  },
  {
   "cell_type": "code",
   "execution_count": 3,
   "metadata": {
    "collapsed": true
   },
   "outputs": [],
   "source": [
    "def isLetter(char, words_Only) :\n",
    "    if(char == ' '):\n",
    "        return False; \n",
    "    if(words_Only) :\n",
    "        return (char!='.'and char!=','and char!=':'and char!='\"' and char!='?' and char!='!'and char!=';')\n",
    "    return True"
   ]
  },
  {
   "cell_type": "markdown",
   "metadata": {},
   "source": [
    "Part 2\n",
    "------"
   ]
  },
  {
   "cell_type": "code",
   "execution_count": 4,
   "metadata": {
    "collapsed": false
   },
   "outputs": [],
   "source": [
    "import statistics\n",
    "\n",
    "def count_freq(lst):\n",
    "    freqList = {};\n",
    "    for word in lst:\n",
    "        if(not word in freqList):\n",
    "            freqList[word] = 1\n",
    "        else:\n",
    "            freqList[word]+=1\n",
    "    return freqList\n",
    "\n",
    "def mean(lst):\n",
    "    return statistics.mean(lst)\n",
    "\n",
    "def stdev(lst):\n",
    "    return statistics.stdev(lst)\n",
    "\n",
    "def median(lst):\n",
    "    return statistics.median(lst)"
   ]
  },
  {
   "cell_type": "markdown",
   "metadata": {},
   "source": [
    "Part 3\n",
    "------"
   ]
  },
  {
   "cell_type": "code",
   "execution_count": 5,
   "metadata": {
    "collapsed": false
   },
   "outputs": [],
   "source": [
    "def print_stats(lst):\n",
    "    print(mean(lst))\n",
    "    print(stdev(lst))\n",
    "    print(median(lst))"
   ]
  },
  {
   "cell_type": "code",
   "execution_count": null,
   "metadata": {
    "collapsed": true
   },
   "outputs": [],
   "source": []
  }
 ],
 "metadata": {
  "kernelspec": {
   "display_name": "Python 3",
   "language": "python",
   "name": "python3"
  },
  "language_info": {
   "codemirror_mode": {
    "name": "ipython",
    "version": 3
   },
   "file_extension": ".py",
   "mimetype": "text/x-python",
   "name": "python",
   "nbconvert_exporter": "python",
   "pygments_lexer": "ipython3",
   "version": "3.5.1"
  }
 },
 "nbformat": 4,
 "nbformat_minor": 0
}
